{
 "cells": [
  {
   "cell_type": "code",
   "execution_count": 2,
   "id": "7f56a8a5",
   "metadata": {},
   "outputs": [],
   "source": [
    "import numpy as np\n",
    "import matplotlib.pyplot as plt"
   ]
  },
  {
   "cell_type": "code",
   "execution_count": 3,
   "id": "59242191",
   "metadata": {},
   "outputs": [],
   "source": [
    "l = 12"
   ]
  },
  {
   "cell_type": "code",
   "execution_count": 13,
   "id": "74af3bed",
   "metadata": {},
   "outputs": [
    {
     "name": "stdout",
     "output_type": "stream",
     "text": [
      "[6 8 6 3 9 4 7 8 5 6]\n",
      "[[0 1 0 0 1 1 1 1 0 1 0 1]\n",
      " [0 0 0 0 1 1 0 1 0 1 1 0]\n",
      " [1 0 1 1 1 0 0 0 1 0 1 1]\n",
      " [1 1 1 0 0 1 1 1 0 1 0 1]\n",
      " [0 0 0 0 0 0 1 0 0 0 1 0]\n",
      " [0 0 0 0 0 1 1 1 0 1 0 1]\n",
      " [1 1 0 0 1 0 0 1 0 1 0 1]\n",
      " [1 1 0 0 1 0 0 1 1 0 1 1]\n",
      " [1 1 0 1 0 1 1 0 1 0 0 0]\n",
      " [0 1 1 0 0 1 0 1 0 1 0 0]]\n",
      "Value changed from 1 to 0\n",
      "[[0 1 0 0 1 1 1 1 0 1 0 1]\n",
      " [0 0 0 0 1 1 0 1 0 1 1 0]\n",
      " [1 0 1 1 1 0 0 0 1 0 1 1]\n",
      " [1 1 1 0 0 1 1 1 0 1 0 1]\n",
      " [0 0 0 0 0 0 1 0 0 0 1 0]\n",
      " [0 0 0 0 0 1 1 1 0 1 0 1]\n",
      " [1 1 0 0 1 0 0 1 0 1 0 1]\n",
      " [1 1 0 0 1 0 0 1 1 0 1 1]\n",
      " [0 1 0 1 0 1 1 0 1 0 0 0]\n",
      " [0 1 1 0 0 1 0 1 0 1 0 0]]\n"
     ]
    }
   ],
   "source": [
    "def fitness(v, target):\n",
    "    return np.abs(v - target).sum()\n",
    "\n",
    "def geneneration(n):\n",
    "    return np.random.randint(low=0, high=1+1, size=(n, l))\n",
    "\n",
    "def selection(P, target):\n",
    "    prob = np.array([fitness(p, target) for p in P])\n",
    "    print(prob)\n",
    "    select = np.random.choice(len(P), p=prob/prob.sum())\n",
    "    return select\n",
    "\n",
    "def mutation(P, n, pm):\n",
    "    for i in range(n):\n",
    "        idx = np.random.randint(low=0, high=l)\n",
    "        if np.random.rand() < pm:\n",
    "            v = np.random.randint(low=0, high=1+1)\n",
    "            if P[i, idx] != v:\n",
    "                print(f\"Value changed from {P[i, idx]} to {v}\")\n",
    "            P[i, idx] = v\n",
    "\n",
    "def crossover(P):\n",
    "    pass\n",
    "\n",
    "P = geneneration(10)\n",
    "target =  np.array([1, 0, 1, 1, 0, 1, 1, 1, 1, 1, 0, 1])\n",
    "f = fitness(P[0], target)\n",
    "selection(P, target)\n",
    "print(P)\n",
    "mutation(P, 10, 0.05)\n",
    "print(P)"
   ]
  }
 ],
 "metadata": {
  "kernelspec": {
   "display_name": "Python 3 (ipykernel)",
   "language": "python",
   "name": "python3"
  },
  "language_info": {
   "codemirror_mode": {
    "name": "ipython",
    "version": 3
   },
   "file_extension": ".py",
   "mimetype": "text/x-python",
   "name": "python",
   "nbconvert_exporter": "python",
   "pygments_lexer": "ipython3",
   "version": "3.9.4"
  }
 },
 "nbformat": 4,
 "nbformat_minor": 5
}
