{
 "cells": [
  {
   "cell_type": "code",
   "execution_count": 1,
   "id": "7f56a8a5",
   "metadata": {},
   "outputs": [],
   "source": [
    "import numpy as np\n",
    "import matplotlib.pyplot as plt"
   ]
  },
  {
   "cell_type": "code",
   "execution_count": 2,
   "id": "59242191",
   "metadata": {},
   "outputs": [],
   "source": [
    "l = 12\n",
    "target =  np.array([1, 0, 1, 1, 0, 1, 1, 1, 1, 1, 0, 1])"
   ]
  },
  {
   "cell_type": "code",
   "execution_count": 3,
   "id": "7c66df6e",
   "metadata": {},
   "outputs": [
    {
     "data": {
      "text/plain": [
       "<matplotlib.image.AxesImage at 0x7efc7817d250>"
      ]
     },
     "execution_count": 3,
     "metadata": {},
     "output_type": "execute_result"
    },
    {
     "data": {
      "image/png": "[encoded data removed]",
      "text/plain": [
       "<Figure size 432x288 with 1 Axes>"
      ]
     },
     "metadata": {
      "needs_background": "light"
     },
     "output_type": "display_data"
    }
   ],
   "source": [
    "plt.imshow(target.reshape((4, 3)), cmap='Greys')"
   ]
  },
  {
   "cell_type": "code",
   "execution_count": 4,
   "id": "a349ccaf",
   "metadata": {},
   "outputs": [],
   "source": [
    "def plot_pop(P, gen):\n",
    "    print(f\"Generation #{gen}\")\n",
    "    N = len(P)\n",
    "    fig, axs = plt.subplots(nrows=1, ncols=N)\n",
    "    for i in range(N):\n",
    "        axs[i].imshow(P[i].reshape(4, 3), cmap='Greys')\n",
    "        axs[i].axis('off')"
   ]
  },
  {
   "cell_type": "code",
   "execution_count": 5,
   "id": "74af3bed",
   "metadata": {},
   "outputs": [],
   "source": [
    "evaluations = 0\n",
    "\n",
    "def fitness_eval(v):\n",
    "    global evaluations\n",
    "    evaluations += 1\n",
    "    return l - np.abs(v - target).sum()\n",
    "\n",
    "def init(n):\n",
    "    return np.random.randint(low=0, high=1+1, size=(n, l))\n",
    "\n",
    "def selection(fitness):\n",
    "    prob = np.array(fitness)\n",
    "    prob = prob / prob.sum()\n",
    "    return np.random.choice(len(P), p=prob)\n",
    "\n",
    "def mutation(P, pm):\n",
    "    Pnew = np.copy(P)\n",
    "    for i in range(len(P)):\n",
    "        idx = np.random.randint(low=0, high=l)\n",
    "        if np.random.rand() < pm:\n",
    "            v = np.random.randint(low=0, high=1+1)\n",
    "            Pnew[i, idx] = v\n",
    "    return Pnew\n",
    "\n",
    "def crossover_point(parent1, parent2):\n",
    "    p = np.random.randint(low=0, high=l)\n",
    "    child1 = np.concatenate((parent1[:p], parent2[p:]))\n",
    "    child2 = np.concatenate((parent2[:p], parent1[p:]))\n",
    "    return child1, child2\n",
    "    \n",
    "def crossover(P, fitness, pc):\n",
    "    Pnew = list()\n",
    "    for i in range(len(P) // 2):\n",
    "        parent1 = P[selection(fitness)]\n",
    "        parent2 = P[selection(fitness)]\n",
    "        if np.random.rand() < pc:\n",
    "            child1, child2 = crossover_point(parent1, parent2)\n",
    "            Pnew.append(child1)\n",
    "            Pnew.append(child2)\n",
    "        else:\n",
    "            Pnew.append(parent1)\n",
    "            Pnew.append(parent2)\n",
    "    return np.array(Pnew)"
   ]
  },
  {
   "cell_type": "code",
   "execution_count": 6,
   "id": "00dfde87",
   "metadata": {},
   "outputs": [
    {
     "name": "stdout",
     "output_type": "stream",
     "text": [
      "Generation #1\n",
      "Generation #1\n",
      "Found  52\n",
      "Generation #52\n"
     ]
    },
    {
     "data": {
      "image/png": "[encoded data removed]",
      "text/plain": [
       "<Figure size 432x288 with 8 Axes>"
      ]
     },
     "metadata": {
      "needs_background": "light"
     },
     "output_type": "display_data"
    },
    {
     "data": {
      "image/png": "[encoded data removed]",
      "text/plain": [
       "<Figure size 432x288 with 8 Axes>"
      ]
     },
     "metadata": {
      "needs_background": "light"
     },
     "output_type": "display_data"
    },
    {
     "data": {
      "image/png": "[encoded data removed]",
      "text/plain": [
       "<Figure size 432x288 with 8 Axes>"
      ]
     },
     "metadata": {
      "needs_background": "light"
     },
     "output_type": "display_data"
    }
   ],
   "source": [
    "np.random.seed(1)\n",
    "history = list()\n",
    "\n",
    "P = init(8)\n",
    "plot_pop(P, 1)\n",
    "\n",
    "for generation in range(695):\n",
    "    fitness = np.array([fitness_eval(v) for v in P])\n",
    "    history.append(fitness)\n",
    "    if np.any(fitness == l):\n",
    "        print(\"Found \", generation+1)\n",
    "        break\n",
    "    P = crossover(P, fitness, 0.9)\n",
    "    P = mutation(P, 0.3)\n",
    "    if generation % 100 == 0:\n",
    "        plot_pop(P, generation + 1)\n",
    "plot_pop(P, generation + 1)"
   ]
  },
  {
   "cell_type": "code",
   "execution_count": 14,
   "id": "9ba8361a",
   "metadata": {},
   "outputs": [],
   "source": [
    "fitness_max = np.max(history, axis=1)\n",
    "fitness_min = np.min(history, axis=1)\n",
    "fitness_mean = np.mean(history, axis=1)"
   ]
  },
  {
   "cell_type": "code",
   "execution_count": 60,
   "id": "ca3beb97",
   "metadata": {},
   "outputs": [
    {
     "data": {
      "text/plain": [
       "<matplotlib.legend.Legend at 0x7fdf0dfe4490>"
      ]
     },
     "execution_count": 60,
     "metadata": {},
     "output_type": "execute_result"
    },
    {
     "data": {
      "image/png": "[encoded data removed]",
      "text/plain": [
       "<Figure size 432x288 with 1 Axes>"
      ]
     },
     "metadata": {
      "needs_background": "light"
     },
     "output_type": "display_data"
    }
   ],
   "source": [
    "plt.plot(fitness_max, label=\"Max. fitness\")\n",
    "plt.plot(fitness_min, label=\"Min. fitness\")\n",
    "plt.plot(fitness_mean, label=\"Mean fitness\")\n",
    "plt.legend()"
   ]
  }
 ],
 "metadata": {
  "kernelspec": {
   "display_name": "Python 3 (ipykernel)",
   "language": "python",
   "name": "python3"
  },
  "language_info": {
   "codemirror_mode": {
    "name": "ipython",
    "version": 3
   },
   "file_extension": ".py",
   "mimetype": "text/x-python",
   "name": "python",
   "nbconvert_exporter": "python",
   "pygments_lexer": "ipython3",
   "version": "3.9.4"
  }
 },
 "nbformat": 4,
 "nbformat_minor": 5
}
